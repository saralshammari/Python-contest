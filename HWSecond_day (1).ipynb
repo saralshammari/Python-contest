{
  "nbformat": 4,
  "nbformat_minor": 0,
  "metadata": {
    "colab": {
      "name": "HWSecond_day.ipynb",
      "provenance": []
    },
    "kernelspec": {
      "name": "python3",
      "display_name": "Python 3"
    }
  },
  "cells": [
    {
      "cell_type": "code",
      "metadata": {
        "colab": {
          "base_uri": "https://localhost:8080/"
        },
        "id": "d6lSIzkJ5xAz",
        "outputId": "fc330444-3e4d-46ca-bcc9-cd4903e1b982"
      },
      "source": [
        "#Print the word PYTHON one hundred times without using loops\r\n",
        "x=0\r\n",
        "while x<=100:\r\n",
        "   \r\n",
        "   print(\"Python\", x)\r\n",
        "   x=x+1\r\n"
      ],
      "execution_count": null,
      "outputs": [
        {
          "output_type": "stream",
          "text": [
            "Python 0\n",
            "Python 1\n",
            "Python 2\n",
            "Python 3\n",
            "Python 4\n",
            "Python 5\n",
            "Python 6\n",
            "Python 7\n",
            "Python 8\n",
            "Python 9\n",
            "Python 10\n",
            "Python 11\n",
            "Python 12\n",
            "Python 13\n",
            "Python 14\n",
            "Python 15\n",
            "Python 16\n",
            "Python 17\n",
            "Python 18\n",
            "Python 19\n",
            "Python 20\n",
            "Python 21\n",
            "Python 22\n",
            "Python 23\n",
            "Python 24\n",
            "Python 25\n",
            "Python 26\n",
            "Python 27\n",
            "Python 28\n",
            "Python 29\n",
            "Python 30\n",
            "Python 31\n",
            "Python 32\n",
            "Python 33\n",
            "Python 34\n",
            "Python 35\n",
            "Python 36\n",
            "Python 37\n",
            "Python 38\n",
            "Python 39\n",
            "Python 40\n",
            "Python 41\n",
            "Python 42\n",
            "Python 43\n",
            "Python 44\n",
            "Python 45\n",
            "Python 46\n",
            "Python 47\n",
            "Python 48\n",
            "Python 49\n",
            "Python 50\n",
            "Python 51\n",
            "Python 52\n",
            "Python 53\n",
            "Python 54\n",
            "Python 55\n",
            "Python 56\n",
            "Python 57\n",
            "Python 58\n",
            "Python 59\n",
            "Python 60\n",
            "Python 61\n",
            "Python 62\n",
            "Python 63\n",
            "Python 64\n",
            "Python 65\n",
            "Python 66\n",
            "Python 67\n",
            "Python 68\n",
            "Python 69\n",
            "Python 70\n",
            "Python 71\n",
            "Python 72\n",
            "Python 73\n",
            "Python 74\n",
            "Python 75\n",
            "Python 76\n",
            "Python 77\n",
            "Python 78\n",
            "Python 79\n",
            "Python 80\n",
            "Python 81\n",
            "Python 82\n",
            "Python 83\n",
            "Python 84\n",
            "Python 85\n",
            "Python 86\n",
            "Python 87\n",
            "Python 88\n",
            "Python 89\n",
            "Python 90\n",
            "Python 91\n",
            "Python 92\n",
            "Python 93\n",
            "Python 94\n",
            "Python 95\n",
            "Python 96\n",
            "Python 97\n",
            "Python 98\n",
            "Python 99\n",
            "Python 100\n"
          ],
          "name": "stdout"
        }
      ]
    },
    {
      "cell_type": "code",
      "metadata": {
        "colab": {
          "base_uri": "https://localhost:8080/"
        },
        "id": "FxC0su1E6QD9",
        "outputId": "5e94c4b6-7b55-4bc5-c069-9b1ff7ff82f1"
      },
      "source": [
        "import random\r\n",
        "\r\n",
        "\r\n",
        "num=random.choice([0,1,2,3,4,5,6,7,8,9,10])\r\n",
        "print(num)\r\n",
        "    "
      ],
      "execution_count": null,
      "outputs": [
        {
          "output_type": "stream",
          "text": [
            "0\n"
          ],
          "name": "stdout"
        }
      ]
    },
    {
      "cell_type": "code",
      "metadata": {
        "id": "wdKZdxsC8Lsw"
      },
      "source": [
        "import turtle\r\n",
        "turtle.shape(\"turtle\")\r\n",
        "turtle.speed(100)\r\n",
        "s =0\r\n",
        "for i in range (60):\r\n",
        "    s+=5\r\n",
        "    for j in range(4):\r\n",
        "        turtle.forward(25+s)\r\n",
        "        turtle.right(90)\r\n",
        "    turtle.right(5)"
      ],
      "execution_count": null,
      "outputs": []
    }
  ]
}