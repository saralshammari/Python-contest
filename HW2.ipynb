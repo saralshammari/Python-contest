{
  "nbformat": 4,
  "nbformat_minor": 0,
  "metadata": {
    "colab": {
      "name": "HW2.ipynb",
      "provenance": []
    },
    "kernelspec": {
      "name": "python3",
      "display_name": "Python 3"
    }
  },
  "cells": [
    {
      "cell_type": "code",
      "metadata": {
        "id": "Wts689fDKR-L"
      },
      "source": [
        ""
      ],
      "execution_count": 1,
      "outputs": []
    },
    {
      "cell_type": "code",
      "metadata": {
        "colab": {
          "base_uri": "https://localhost:8080/"
        },
        "id": "TjxV_GyOKaXs",
        "outputId": "e743b4d3-54c6-4070-f759-e3d016d8f42e"
      },
      "source": [
        "num1 = float(input (\"Enter Nmber 1:\"))\r\n",
        "num2 = float(input (\"Enter Nmber 2:\"))\r\n",
        "print (num1 + num2)"
      ],
      "execution_count": 2,
      "outputs": [
        {
          "output_type": "stream",
          "text": [
            "Enter Nmber 1:2.3\n",
            "Enter Nmber 2:3.4\n",
            "5.699999999999999\n"
          ],
          "name": "stdout"
        }
      ]
    },
    {
      "cell_type": "code",
      "metadata": {
        "id": "Ui9sqMvlKwiF"
      },
      "source": [
        ""
      ],
      "execution_count": 2,
      "outputs": []
    }
  ]
}